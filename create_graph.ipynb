{
 "cells": [
  {
   "cell_type": "code",
   "execution_count": 7,
   "metadata": {},
   "outputs": [],
   "source": [
    "import pandas as pd\n",
    "import numpy as np\n",
    "import networkx as nx"
   ]
  },
  {
   "cell_type": "code",
   "execution_count": 8,
   "metadata": {},
   "outputs": [
    {
     "name": "stdout",
     "output_type": "stream",
     "text": [
      "Pitcher Features:\n",
      "   PitcherId  Velocity  SpinRate\n",
      "0          1        90      2200\n",
      "1          2        95      2300\n",
      "2          3        88      2100\n",
      "\n",
      "Hitter Features:\n",
      "   HitterId  Average  OnBasePercentage\n",
      "0       101     0.30              0.38\n",
      "1       102     0.28              0.35\n",
      "2       103     0.32              0.40\n"
     ]
    }
   ],
   "source": [
    "# Example pitcher features (3 pitchers)\n",
    "pitcher_features = pd.DataFrame({\n",
    "    'PitcherId': [1, 2, 3],\n",
    "    'Velocity': [90, 95, 88],\n",
    "    'SpinRate': [2200, 2300, 2100]\n",
    "})\n",
    "\n",
    "# Example hitter features (3 hitters)\n",
    "hitter_features = pd.DataFrame({\n",
    "    'HitterId': [101, 102, 103],\n",
    "    'Average': [0.300, 0.280, 0.320],\n",
    "    'OnBasePercentage': [0.380, 0.350, 0.400]\n",
    "})\n",
    "\n",
    "print(\"Pitcher Features:\")\n",
    "print(pitcher_features)\n",
    "print(\"\\nHitter Features:\")\n",
    "print(hitter_features)\n"
   ]
  },
  {
   "cell_type": "code",
   "execution_count": 9,
   "metadata": {},
   "outputs": [
    {
     "name": "stdout",
     "output_type": "stream",
     "text": [
      "\n",
      "At-Bat Outcomes:\n",
      "   PitcherId  HitterId Outcome\n",
      "0          1       101  strike\n",
      "1          1       102     hit\n",
      "2          2       103  strike\n",
      "3          3       101     hit\n",
      "4          2       102     out\n"
     ]
    }
   ],
   "source": [
    "# Example at-bat outcomes\n",
    "at_bat_outcomes = pd.DataFrame({\n",
    "    'PitcherId': [1, 1, 2, 3, 2],\n",
    "    'HitterId': [101, 102, 103, 101, 102],\n",
    "    'Outcome': ['strike', 'hit', 'strike', 'hit', 'out']\n",
    "})\n",
    "\n",
    "print(\"\\nAt-Bat Outcomes:\")\n",
    "print(at_bat_outcomes)"
   ]
  },
  {
   "cell_type": "code",
   "execution_count": 11,
   "metadata": {},
   "outputs": [
    {
     "name": "stdout",
     "output_type": "stream",
     "text": [
      "\n",
      "Edges with Attributes:\n",
      "1 -> 101, Outcome: strike\n",
      "1 -> 102, Outcome: hit\n",
      "2 -> 103, Outcome: strike\n",
      "2 -> 102, Outcome: out\n",
      "3 -> 101, Outcome: hit\n"
     ]
    }
   ],
   "source": [
    "# Create a directed graph\n",
    "G = nx.DiGraph()\n",
    "\n",
    "# Add pitcher nodes with features\n",
    "for _, row in pitcher_features.iterrows():\n",
    "    G.add_node(row['PitcherId'], features=row[['Velocity', 'SpinRate']].values)\n",
    "\n",
    "# Add hitter nodes with features\n",
    "for _, row in hitter_features.iterrows():\n",
    "    G.add_node(row['HitterId'], features=row[['Average', 'OnBasePercentage']].values)\n",
    "\n",
    "# Add edges based on at-bat outcomes\n",
    "for _, row in at_bat_outcomes.iterrows():\n",
    "    G.add_edge(row['PitcherId'], row['HitterId'], outcome=row['Outcome'])\n",
    "\n",
    "# Print graph information\n",
    "#print(\"\\nGraph Info:\")\n",
    "#print(nx.info(G))\n",
    "\n",
    "# Print the edges with attributes\n",
    "print(\"\\nEdges with Attributes:\")\n",
    "for u, v, attr in G.edges(data=True):\n",
    "    print(f\"{u} -> {v}, Outcome: {attr['outcome']}\")\n"
   ]
  }
 ],
 "metadata": {
  "kernelspec": {
   "display_name": "Python 3",
   "language": "python",
   "name": "python3"
  },
  "language_info": {
   "codemirror_mode": {
    "name": "ipython",
    "version": 3
   },
   "file_extension": ".py",
   "mimetype": "text/x-python",
   "name": "python",
   "nbconvert_exporter": "python",
   "pygments_lexer": "ipython3",
   "version": "3.10.1"
  }
 },
 "nbformat": 4,
 "nbformat_minor": 2
}
