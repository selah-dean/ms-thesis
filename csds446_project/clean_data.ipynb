{
 "cells": [
  {
   "cell_type": "markdown",
   "metadata": {},
   "source": [
    "### Sources \n",
    "\n",
    "https://baseballsavant.mlb.com/leaderboard\n",
    "\n",
    "https://www.retrosheet.org/downloads/othercsvs.html\n",
    "\n",
    "https://github.com/chadwickbureau/register/tree/master"
   ]
  },
  {
   "cell_type": "code",
   "execution_count": 2,
   "metadata": {},
   "outputs": [],
   "source": [
    "import numpy as np \n",
    "import pandas as pd \n",
    "import matplotlib.pyplot as plt \n",
    "import matplotlib.ticker as ticker\n",
    "import re\n",
    "import glob "
   ]
  },
  {
   "cell_type": "code",
   "execution_count": 3,
   "metadata": {},
   "outputs": [],
   "source": [
    "import warnings\n",
    "warnings.simplefilter(action='ignore', category=FutureWarning)\n",
    "warnings.simplefilter(action='ignore', category=pd.errors.SettingWithCopyWarning)"
   ]
  },
  {
   "cell_type": "code",
   "execution_count": 4,
   "metadata": {},
   "outputs": [],
   "source": [
    "# Read files \n",
    "pitchers = pd.read_csv(\"datasets/raw/pitchers.csv\")\n",
    "batters = pd.read_csv(\"datasets/raw/batters.csv\")\n",
    "plays = pd.concat(map(pd.read_csv, glob.glob(\"datasets/raw/retrosheet/*plays.csv\")), ignore_index=True) \n",
    "\n",
    "dtype_spec = {\n",
    "    8: str, \n",
    "    9: str,  \n",
    "    10: str \n",
    "}\n",
    "\n",
    "register = pd.concat(\n",
    "    map(lambda f: pd.read_csv(f, dtype=dtype_spec), \n",
    "        glob.glob(\"datasets/raw/chadwick_bureau_register/people-*.csv\")),\n",
    "    ignore_index=True\n",
    ")\n"
   ]
  },
  {
   "cell_type": "code",
   "execution_count": 5,
   "metadata": {},
   "outputs": [
    {
     "name": "stdout",
     "output_type": "stream",
     "text": [
      "Number of unique MLB ids: 3651\n",
      "Number of unique retrosheet ids: 3776\n"
     ]
    }
   ],
   "source": [
    "# Extract ids for matching \n",
    "mlb_ids = np.unique(np.concatenate((pitchers[\"player_id\"], batters[\"player_id\"])))\n",
    "print(f\"Number of unique MLB ids: {len(mlb_ids)}\")\n",
    "\n",
    "retro_ids = np.unique(np.concatenate((plays[\"batter\"], plays[\"pitcher\"])).astype(str))\n",
    "print(f\"Number of unique retrosheet ids: {len(retro_ids)}\")\n",
    "\n",
    "player_id_map = register[(register['key_mlbam'].isin(mlb_ids) | register['key_retro'].isin(retro_ids))][['key_mlbam', 'key_retro']]"
   ]
  },
  {
   "cell_type": "code",
   "execution_count": 6,
   "metadata": {},
   "outputs": [],
   "source": [
    "pitchers = pd.merge(pitchers, player_id_map, left_on='player_id', right_on='key_mlbam', how='left')\n",
    "batters = pd.merge(batters, player_id_map, left_on='player_id', right_on='key_mlbam', how='left')"
   ]
  },
  {
   "cell_type": "code",
   "execution_count": null,
   "metadata": {},
   "outputs": [],
   "source": [
    "# Replace any NA for a pitch type with 0 \n",
    "pitchers.loc[:, pitchers.columns.str.endswith(\"_formatted\")] = pitchers.loc[:, pitchers.columns.str.endswith(\"_formatted\")].fillna(0)\n",
    "# Rename column to be pitch type percentage \n",
    "pitchers = pitchers.rename(columns=lambda col: col[2:-10] + \"_percent\" if col.endswith(\"_formatted\") and col.startswith(\"n_\") else col)"
   ]
  },
  {
   "cell_type": "code",
   "execution_count": 8,
   "metadata": {},
   "outputs": [],
   "source": [
    "pitchers_clean = pitchers[\n",
    "    [\n",
    "        \"key_retro\",\n",
    "        \"year\",\n",
    "        \"k_percent\",\n",
    "        \"bb_percent\",\n",
    "        \"pitch_hand\",\n",
    "        \"ff_percent\",\n",
    "        \"sl_percent\",\n",
    "        \"ch_percent\",\n",
    "        \"cu_percent\",\n",
    "        \"si_percent\",\n",
    "        \"fc_percent\",\n",
    "        \"fs_percent\",\n",
    "        \"kn_percent\",\n",
    "        \"st_percent\",\n",
    "        \"sv_percent\",\n",
    "        \"fo_percent\",\n",
    "        \"sc_percent\",\n",
    "        \"fastball_percent\",\n",
    "        \"fastball_avg_speed\",\n",
    "    ]\n",
    "]\n",
    "\n",
    "# Drop any pitchers that don't have an average fastball velo (these are position players who pitched)\n",
    "pitchers_clean = pitchers_clean.dropna(subset=['fastball_avg_speed'])\n",
    "\n",
    "# Set the index to be the key and year \n",
    "pitchers_clean = pitchers_clean.set_index('key_retro')"
   ]
  },
  {
   "cell_type": "code",
   "execution_count": 9,
   "metadata": {},
   "outputs": [],
   "source": [
    "batters_clean = batters[\n",
    "    [\n",
    "        \"key_retro\",\n",
    "        \"year\",\n",
    "        \"k_percent\",\n",
    "        \"bb_percent\",\n",
    "        \"exit_velocity_avg\",\n",
    "        \"launch_angle_avg\",\n",
    "    ]\n",
    "]\n",
    "\n",
    "# Drop any batters that don't have an average exit velo \n",
    "batters_clean = batters_clean.dropna(subset=['exit_velocity_avg'])\n",
    "\n",
    "# Set the index to be the key and year \n",
    "batters_clean = batters_clean.set_index('key_retro')"
   ]
  },
  {
   "cell_type": "markdown",
   "metadata": {},
   "source": [
    "Cleaning play by play data"
   ]
  },
  {
   "cell_type": "code",
   "execution_count": 10,
   "metadata": {},
   "outputs": [],
   "source": [
    "# Ensure that there are no duplicate rows \n",
    "plays = plays.drop_duplicates()\n",
    "\n",
    "# Only want to include regular season games \n",
    "plays = plays[plays[\"gametype\"] == \"regular\"]"
   ]
  },
  {
   "cell_type": "code",
   "execution_count": 11,
   "metadata": {},
   "outputs": [],
   "source": [
    "# Extract the event based on retrosheet's event text \n",
    "def simplify_event(input_str):\n",
    "    # Define the regular expressions for each case\n",
    "    patterns = [\n",
    "        (r'^[0-9]!?/G', 'ground_out'),\n",
    "        (r'^[0-9]!?/L', 'line_out'),\n",
    "        (r'^[0-9]!?/P|[0-9]/IF', 'pop_up'),\n",
    "        (r'^[0-9]!?/F', 'fly_out'),\n",
    "        (r'^[0-9]!?/BG', 'bunt_ground_out'),\n",
    "        (r'^[0-9]!?/BP', 'bunt_pop_up'),\n",
    "        (r'^[0-9]!?/BL', 'bunt_line_drive'), \n",
    "        (r'^[0-9]!?/SH', 'sacrifice_bunt'), \n",
    "        (r'^[0-9]!?/?/SF', 'sacrifice_fly'), \n",
    "        (r'^[0-9]!?[0-9]', 'ground_out'),\n",
    "        (r'^[0-9]\\([^)]*\\)|^[0-9][0-9]\\([^)]*\\)', 'grounded_double_play'),\n",
    "        (r'^[0-9]\\([B]\\)[0-9]\\([^)]*\\)', 'lined_double_play'),\n",
    "        (r'^[0-9]/BINT', 'batter_interference'), \n",
    "        (r'^[C]/E[1-3]', 'interference'),\n",
    "        (r'^S[0-9]|^S/|S.', 'single'),\n",
    "        (r'^D[0-9]|^D/', 'double'),\n",
    "        (r'^T[0-9]|^T/', 'triple'),\n",
    "        (r'^DGR', 'ground_rule_double'),\n",
    "        (r'^E[0-9]|^[0-9]E[0-9]', 'error'),\n",
    "        (r'^FC', 'fielders_choice'),\n",
    "        (r'^FLE[0-9]', 'error_foul_fly_ball'),\n",
    "        (r'^HP', 'hit_by_pitch'),\n",
    "        (r'^H[0-9]|^HR[0-9]', 'inside_park_home_run'),\n",
    "        (r'^H|^HR', 'home_run'),\n",
    "        (r'^K', 'strikeout'),\n",
    "        (r'^NP', 'no_play'),\n",
    "        (r'^I|^IW', 'intentional_walk'),\n",
    "        (r'^W', 'walk'),\n",
    "        (r'^BK', 'balk'),\n",
    "        (r'^CS[2-3H]', 'caught_stealing'),\n",
    "        (r'^DI', 'defensive_indifference'),\n",
    "        (r'^OA', 'base_runner_advance'),\n",
    "        (r'^PB', 'passed_ball'),\n",
    "        (r'^WP', 'wild_pitch'),\n",
    "        (r'^PO', 'picked_off'),\n",
    "        (r'^SB[2-3H]', 'stolen_base'), \n",
    "        (r'^[0-9]', 'out'), \n",
    "    ]\n",
    "    \n",
    "    # Iterate through the patterns and return the matched outcome\n",
    "    for pattern, outcome in patterns:\n",
    "        if re.match(pattern, input_str):\n",
    "            return outcome\n",
    "    \n",
    "    # If no match, return Nones\n",
    "    return None"
   ]
  },
  {
   "cell_type": "code",
   "execution_count": 12,
   "metadata": {},
   "outputs": [],
   "source": [
    "plays.loc[:, \"simple_event\"] = plays[\"event\"].astype(str).apply(simplify_event)"
   ]
  },
  {
   "cell_type": "code",
   "execution_count": 13,
   "metadata": {},
   "outputs": [],
   "source": [
    "# Focusing on result of the pitcher vs hitter matchup which happens where there is a plate appearance\n",
    "# The other events focus on the runners\n",
    "plate_app = plays[plays[\"pa\"] == 1]"
   ]
  },
  {
   "cell_type": "code",
   "execution_count": 14,
   "metadata": {},
   "outputs": [],
   "source": [
    "# From the event want to create a more general outcome variable for prediction \n",
    "def determine_outcome(event, hittype): \n",
    "    if \"interference\" in event: \n",
    "        return \"interference\"\n",
    "    elif \"bunt\" in event: \n",
    "        return \"bunt\"\n",
    "    elif \"walk\" in event: \n",
    "        return \"walk\"\n",
    "    elif \"hit_by_pitch\" in event: \n",
    "        return \"hitbypitch\"\n",
    "    elif event in [\"fielders_choice\", \"ground_out\", \"grounded_double_play\"]: \n",
    "        return \"groundball\"\n",
    "    elif event in [\"fly_out\", \"sacrifice_fly\", \"home_run\", \"ground_rule_double\", \"inside_park_home_run\"]: \n",
    "        return \"flyball\"\n",
    "    elif event == \"line_out\": \n",
    "        return \"linedrive\"\n",
    "    elif event == \"pop_up\": \n",
    "        return \"popup\"\n",
    "    elif event == \"strikeout\": \n",
    "        return \"strikeout\"\n",
    "    elif event == \"home_run\": \n",
    "        return \"flyball\"\n",
    "    elif event in [\"single\", \"double\", \"triple\", \"error\"]: \n",
    "        if hittype in [\"BG\", \"BL\", \"BP\"]: \n",
    "            return \"bunt\"\n",
    "        elif hittype == \"F\": \n",
    "            return \"flyball\"\n",
    "        elif hittype == \"G\": \n",
    "            return \"groundball\"\n",
    "        elif hittype == \"L\": \n",
    "            return \"linedrive\"\n",
    "        elif hittype == \"P\": \n",
    "            return \"popup\"\n",
    "        else: \n",
    "            return None\n",
    "    else: \n",
    "        return None"
   ]
  },
  {
   "cell_type": "code",
   "execution_count": 15,
   "metadata": {},
   "outputs": [],
   "source": [
    "plate_app.loc[:, \"outcome\"] = plate_app.apply(lambda row: determine_outcome(row[\"simple_event\"], row[\"hittype\"]), axis=1)"
   ]
  },
  {
   "cell_type": "code",
   "execution_count": 20,
   "metadata": {},
   "outputs": [],
   "source": [
    "plate_app_clean = plate_app[\n",
    "    [\n",
    "        \"gid\",\n",
    "        \"outcome\", \n",
    "        \"inning\",\n",
    "        \"top_bot\", \n",
    "        \"batter\",\n",
    "        \"pitcher\",\n",
    "        \"lp\",\n",
    "        \"nump\",\n",
    "        \"outs_pre\",\n",
    "        \"br1_pre\",\n",
    "        \"br2_pre\",\n",
    "        \"br3_pre\",\n",
    "        \"pn\",\n",
    "        \"date\",\n",
    "    ]\n",
    "]\n",
    "\n",
    "# Convert runner column to 0 and 1\n",
    "runner_cols = [\"br1_pre\", \"br2_pre\", \"br3_pre\"]\n",
    "plate_app_clean.loc[:, runner_cols] = np.where(plate_app_clean[runner_cols].isna(), 0, 1)\n",
    "\n",
    "# Convert date column to datetime\n",
    "plate_app_clean.loc[:, \"date\"] = pd.to_datetime(plate_app_clean[\"date\"].astype(str), format='%Y%m%d')\n",
    "\n",
    "# Add column for appearance number in game\n",
    "plate_app_clean[\"num_times_faced_in_game\"] = plate_app_clean.groupby(['gid', 'batter', 'pitcher']).cumcount() + 1\n",
    "\n",
    "# Drop any events with a missing outcome \n",
    "plate_app_clean.dropna(subset=[\"outcome\"], inplace=True)\n",
    "\n",
    "# Drop any events that were an unclassified error or interference \n",
    "plate_app_clean = plate_app_clean.loc[~plate_app_clean[\"outcome\"].isin([\"interference\", \"error\"])]\n",
    "\n",
    "# Create a column for an plate appearance id (pa_id)\n",
    "plate_app_clean[\"pa_id\"] = plate_app_clean[\"gid\"].astype(str) + \"_\" + plate_app_clean[\"pn\"].astype(str)\n",
    "\n",
    "# Remove the gid and pn columns now that pa_id exists\n",
    "plate_app_clean.drop(['gid', 'pn'], axis=1, inplace=True)\n",
    "\n",
    "plate_app_clean = plate_app_clean.set_index([\"pa_id\", \"batter\", \"pitcher\"])"
   ]
  },
  {
   "cell_type": "code",
   "execution_count": 17,
   "metadata": {},
   "outputs": [
    {
     "data": {
      "image/png": "[encoded data removed]",
      "text/plain": [
       "<Figure size 640x480 with 1 Axes>"
      ]
     },
     "metadata": {},
     "output_type": "display_data"
    }
   ],
   "source": [
    "keys, counts = np.unique(plate_app_clean[\"outcome\"].astype(str), return_counts=True)\n",
    "sorted_indices = np.argsort(counts)[::-1]\n",
    "keys = keys[sorted_indices]\n",
    "counts = counts[sorted_indices]\n",
    "\n",
    "fig, ax = plt.subplots()\n",
    "bars = ax.bar(keys, counts)\n",
    "\n",
    "# Format labels with commas\n",
    "ax.bar_label(bars, labels=[f\"{c:,}\" for c in counts])\n",
    "\n",
    "ax.yaxis.set_major_formatter(ticker.StrMethodFormatter('{x:,.0f}'))\n",
    "\n",
    "plt.xticks(rotation=-45, ha='left')\n",
    "plt.xlabel(\"Outcome\")\n",
    "plt.ylabel(\"Count\")\n",
    "plt.title(\"Distribution of Plate Appearance Outcomes\")\n",
    "plt.show()"
   ]
  },
  {
   "cell_type": "markdown",
   "metadata": {},
   "source": [
    "Save Cleaned Datasets "
   ]
  },
  {
   "cell_type": "code",
   "execution_count": 21,
   "metadata": {},
   "outputs": [],
   "source": [
    "pitchers_clean.to_csv(\"datasets/clean/pitchers.csv\")\n",
    "batters_clean.to_csv(\"datasets/clean/batters.csv\")\n",
    "plate_app_clean.to_csv(\"datasets/clean/plate_apps.csv\")"
   ]
  }
 ],
 "metadata": {
  "kernelspec": {
   "display_name": "Python 3",
   "language": "python",
   "name": "python3"
  },
  "language_info": {
   "codemirror_mode": {
    "name": "ipython",
    "version": 3
   },
   "file_extension": ".py",
   "mimetype": "text/x-python",
   "name": "python",
   "nbconvert_exporter": "python",
   "pygments_lexer": "ipython3",
   "version": "3.12.3"
  }
 },
 "nbformat": 4,
 "nbformat_minor": 2
}
