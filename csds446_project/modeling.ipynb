{
 "cells": [
  {
   "cell_type": "code",
   "execution_count": null,
   "metadata": {},
   "outputs": [],
   "source": [
    "import numpy as np\n",
    "import pandas as pd\n",
    "\n",
    "from sklearn.preprocessing import (\n",
    "    StandardScaler,\n",
    "    MinMaxScaler,\n",
    "    OneHotEncoder,\n",
    "    OrdinalEncoder,\n",
    "    LabelEncoder,\n",
    ")\n",
    "from sklearn.compose import ColumnTransformer\n",
    "from sklearn.pipeline import Pipeline"
   ]
  },
  {
   "cell_type": "code",
   "execution_count": 12,
   "metadata": {},
   "outputs": [],
   "source": [
    "# Read cleaned datasets\n",
    "pitchers = pd.read_csv(\"datasets/clean/pitchers.csv\")\n",
    "batters = pd.read_csv(\"datasets/clean/batters.csv\")\n",
    "plate_apps = pd.read_csv(\"datasets/clean/plate_apps.csv\")"
   ]
  },
  {
   "cell_type": "code",
   "execution_count": null,
   "metadata": {},
   "outputs": [],
   "source": [
    "def preprocess_data(data, group_cols):\n",
    "    numeric_cols = data.select_dtypes(include='number').columns.difference(group_cols)\n",
    "    categorical_cols = data.select_dtypes(exclude='number').columns.difference(group_cols)\n",
    "\n",
    "    # Define the preprocessing transformers list\n",
    "    transformers = [('num', StandardScaler(), numeric_cols)]\n",
    "    \n",
    "    # Add categorical encoding only if categorical_cols is not empty\n",
    "    if len(categorical_cols) > 0:\n",
    "        transformers.append(('cat', OneHotEncoder(drop='first'), categorical_cols))\n",
    "\n",
    "    # Define the preprocessing pipeline\n",
    "    preprocessor = ColumnTransformer(transformers)\n",
    "\n",
    "    # Define a function to apply the transformations to each group\n",
    "    def preprocess_group(group):\n",
    "        # Apply the column transformations using the pipeline\n",
    "        transformed_data = preprocessor.fit_transform(group)  # Don't drop group_cols\n",
    "\n",
    "        # Convert the result back into a DataFrame\n",
    "        transformed_df = pd.DataFrame(transformed_data, index=group.index)\n",
    "\n",
    "        # Construct column names\n",
    "        column_names = list(numeric_cols)\n",
    "        if len(categorical_cols) > 0:\n",
    "            column_names += list(preprocessor.named_transformers_['cat'].get_feature_names_out(categorical_cols))\n",
    "\n",
    "        transformed_df.columns = column_names\n",
    "\n",
    "        return transformed_df\n",
    "    \n",
    "\n",
    "    # Group by 'id' and 'year', then apply the preprocessing\n",
    "    df_processed = data.groupby(group_cols, group_keys=True).apply(preprocess_group, include_groups=False)\n",
    "    \n",
    "\n",
    "    return df_processed"
   ]
  },
  {
   "cell_type": "code",
   "execution_count": null,
   "metadata": {},
   "outputs": [],
   "source": [
    "# Preprocess node data for modeling \n",
    "pitchers_processed = preprocess_data(pitchers.set_index(\"key_retro\"), [\"year\"])\n",
    "batters_processed = preprocess_data(batters.set_index(\"key_retro\"), [\"year\"])"
   ]
  },
  {
   "cell_type": "code",
   "execution_count": 51,
   "metadata": {},
   "outputs": [],
   "source": [
    "def preprocess_edge_data(data):\n",
    "    transformers = [\n",
    "        (\"ordinal\", OrdinalEncoder(), [\"inning\", \"lp\", \"outs_pre\"]),\n",
    "        (\"num_std\", StandardScaler(), [\"nump\"]),\n",
    "        (\"num_minmax\", MinMaxScaler(), [\"num_times_faced_in_game\"]),\n",
    "    ]\n",
    "\n",
    "    preprocessor = ColumnTransformer(transformers, remainder=\"passthrough\")\n",
    "\n",
    "    transformed_data = preprocessor.fit_transform(data)\n",
    "\n",
    "    transformed_columns = [\n",
    "        \"inning\",\n",
    "        \"lp\",\n",
    "        \"outs_pre\",\n",
    "        \"nump\",\n",
    "        \"num_times_faced_in_game\",\n",
    "    ]\n",
    "    passthrough_columns = [\n",
    "        col for col in plate_apps.columns if col not in transformed_columns\n",
    "    ]\n",
    "\n",
    "    # Combine column names\n",
    "    all_columns = transformed_columns + passthrough_columns\n",
    "\n",
    "    # Convert to DataFrame\n",
    "    transformed_df = pd.DataFrame(transformed_data, columns=all_columns)\n",
    "\n",
    "    return transformed_df"
   ]
  },
  {
   "cell_type": "code",
   "execution_count": 53,
   "metadata": {},
   "outputs": [],
   "source": [
    "plate_apps_processed = preprocess_edge_data(plate_apps)"
   ]
  }
 ],
 "metadata": {
  "kernelspec": {
   "display_name": "Python 3",
   "language": "python",
   "name": "python3"
  },
  "language_info": {
   "codemirror_mode": {
    "name": "ipython",
    "version": 3
   },
   "file_extension": ".py",
   "mimetype": "text/x-python",
   "name": "python",
   "nbconvert_exporter": "python",
   "pygments_lexer": "ipython3",
   "version": "3.12.3"
  }
 },
 "nbformat": 4,
 "nbformat_minor": 2
}
