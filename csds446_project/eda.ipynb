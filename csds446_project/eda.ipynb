{
 "cells": [
  {
   "cell_type": "markdown",
   "metadata": {},
   "source": [
    "### Sources \n",
    "\n",
    "https://baseballsavant.mlb.com/leaderboard\n",
    "\n",
    "https://www.retrosheet.org/downloads/othercsvs.html\n",
    "\n",
    "https://github.com/chadwickbureau/register/tree/master"
   ]
  },
  {
   "cell_type": "code",
   "execution_count": null,
   "metadata": {},
   "outputs": [],
   "source": [
    "import numpy as np \n",
    "import pandas as pd \n",
    "import matplotlib.pyplot as plt \n",
    "import glob "
   ]
  },
  {
   "cell_type": "code",
   "execution_count": null,
   "metadata": {},
   "outputs": [],
   "source": [
    "# Read files \n",
    "pitchers = pd.read_csv(\"datasets/pitchers.csv\")\n",
    "batters = pd.read_csv(\"datasets/batters.csv\")\n",
    "plays = pd.concat(map(pd.read_csv, glob.glob(\"datasets/retrosheet/*plays.csv\")), ignore_index=True) \n",
    "register = pd.concat(map(pd.read_csv, glob.glob(\"datasets/chadwick_bureau_register/people-*.csv\")), ignore_index=True)"
   ]
  },
  {
   "cell_type": "code",
   "execution_count": null,
   "metadata": {},
   "outputs": [
    {
     "name": "stdout",
     "output_type": "stream",
     "text": [
      "Number of unique MlB ids: 3651\n",
      "Number of unique retrosheet ids: 3776\n"
     ]
    }
   ],
   "source": [
    "# Extract ids for matching \n",
    "mlb_ids = np.unique(np.concatenate((pitchers[\"player_id\"], batters[\"player_id\"])))\n",
    "print(f\"Number of unique MlB ids: {len(mlb_ids)}\")\n",
    "\n",
    "retro_ids = np.unique(np.concatenate((plays[\"batter\"], plays[\"pitcher\"])).astype(str))\n",
    "print(f\"Number of unique retrosheet ids: {len(retro_ids)}\")\n",
    "\n",
    "player_id_map = register[(register['key_mlbam'].isin(mlb_ids) | register['key_retro'].isin(retro_ids))]"
   ]
  }
 ],
 "metadata": {
  "kernelspec": {
   "display_name": "Python 3",
   "language": "python",
   "name": "python3"
  },
  "language_info": {
   "codemirror_mode": {
    "name": "ipython",
    "version": 3
   },
   "file_extension": ".py",
   "mimetype": "text/x-python",
   "name": "python",
   "nbconvert_exporter": "python",
   "pygments_lexer": "ipython3",
   "version": "3.12.3"
  }
 },
 "nbformat": 4,
 "nbformat_minor": 2
}
